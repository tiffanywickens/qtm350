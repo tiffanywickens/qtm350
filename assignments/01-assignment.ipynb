{
 "cells": [
  {
   "cell_type": "markdown",
   "metadata": {},
   "source": [
    "# QTM 350 - Data Science Computing\n",
    "\n",
    "## Assignment 01 - Computational Literacy - Tiffany Wickens\n",
    "### Due 10 September 2025\n",
    "\n",
    "### Instructions\n",
    "\n",
    "This assignment evaluates your understanding of topics covered in the first two weeks of class, including binary and hexadecimal number systems, ASCII encoding, and programming language fundamentals.\n",
    "\n",
    "You must complete this assignment individually. While you may use available resources such as notes, books, and AI tools, you are expected to submit original work. Please acknowledge all resources used, including input from classmates and AI. If you are unsure about permissible resources or proper acknowledgement, please consult the instructor.\n",
    "\n",
    "Present your solutions clearly and systematically, showing your problem-solving process. Please ensure that any code is well-commented.\n",
    "\n",
    "### Submission\n",
    "\n",
    "Please submit your solutions as either a single Jupyter notebook or a PDF file. Follow the instructions provided in each section carefully. Submit your completed assignment to Canvas or via email (danilo.freire@emory.edu) by Wednesday, September 11, at 11:59 PM."
   ]
  },
  {
   "cell_type": "markdown",
   "metadata": {},
   "source": [
    "### Question 01\n",
    "\n",
    "Convert the decimal number 53 to binary. Show your work."
   ]
  },
  {
   "cell_type": "markdown",
   "metadata": {},
   "source": [
    "- 53 > 32 -> 53-32 = 21 -> (2^5) = 1\n",
    "- 21 > 16 -> 21-16 = 5 -> (2^4) = 1\n",
    "- 5 > 8 -> (2^3) = 0\n",
    "- 5 > 4 -> 5-4 = 1 (2^2) = 1\n",
    "- 1 > 2 -> (2^1) = 0\n",
    "- 1 = 1 -> 1-1 (2^0) = 1\n",
    "\n",
    "- (1 * 2^5) + (1 * 2^4) + (0 * 2^3) + (1 * 2^2) + (0 * 2^1) + (1 * 2^0) = 53\n",
    "\n",
    "- **Answer: 110101**"
   ]
  },
  {
   "cell_type": "markdown",
   "metadata": {},
   "source": [
    "### Question 02\n",
    "\n",
    "Convert the binary number 1011001 to decimal. Show your work."
   ]
  },
  {
   "cell_type": "markdown",
   "metadata": {},
   "source": [
    "- 1011001 = (1 * 2^6) + (0 * 2^5) + (1 * 2^4) + (1* 2^3) + (0 * 2^2) + (0 * 2^1) + (1 * 2^0)\n",
    "- 69 + 0 + 16 + 8 + 0 + 0 + 1\n",
    "- **Answer: 89**"
   ]
  },
  {
   "cell_type": "markdown",
   "metadata": {},
   "source": [
    "### Question 03\n",
    "\n",
    "What is the hexadecimal representation of the RGB colour (128, 64, 255)? Explain your answer."
   ]
  },
  {
   "cell_type": "markdown",
   "metadata": {},
   "source": [
    "- Red: 128 / 16 = 8 -> remainder 0 -> Hex: 80\n",
    "- Green: 64 / 16 = 4 -> remainder 0 -> Hex: 40\n",
    "- Blue: 255 / 16 = 15 -> remainder 15 -> Hex: FF\n",
    "\n",
    "- **Hexdecimal: 8040FF**"
   ]
  },
  {
   "cell_type": "markdown",
   "metadata": {},
   "source": [
    "### Question 04\n",
    "\n",
    "Convert the hexadecimal colour #2A9F3B to its RGB components. Show your steps."
   ]
  },
  {
   "cell_type": "markdown",
   "metadata": {},
   "source": [
    "- Red = 2A -> 2 R = (2 * 16) remainder 10 -> 32 + 10 = 42\n",
    "- Green = 9F -> 9 G = (9 * 16) remainder 15 -> 144 + 15 = 159\n",
    "- Blue = 3B -> 3 B = (3 * 16) remainder 11 -> 48 + 11 = 59\n",
    "- **RGB: (42, 159, 59)**"
   ]
  },
  {
   "cell_type": "markdown",
   "metadata": {},
   "source": [
    "### Question 05\n",
    "\n",
    "Using the coin representation system described in the lecture (c[quarters][dimes][nickels][pennies]), convert $1.37 to coin representation. Explain your reasoning."
   ]
  },
  {
   "cell_type": "markdown",
   "metadata": {},
   "source": [
    "Total = $1.37 = 137¢\n",
    "- Quarters (25¢): 137 / 25 = 5 remainder 137 - (5 * 25) = 12 → **5 quarters**\n",
    "- Dimes (10¢): 12 / 10 = 1 remainder 12 - (1 * 10) = 2 → **1 dime**\n",
    "- Nickels (5¢): 2 / 5 = 0 remainder 2 → **0 nickels**\n",
    "- Pennies (1¢): remainder 2 → **2 pennies**\n",
    "\n",
    "5 * 25 + 1 * 10 + 0 * 5 + 2 * 1 = 125 + 10 + 0 + 2 = 137\n",
    "\n"
   ]
  },
  {
   "cell_type": "markdown",
   "metadata": {},
   "source": [
    "### Question 06\n",
    "\n",
    "What is the Unicode representation of the word \"Emory\"? Use the Unicode table provided in the lecture to find out."
   ]
  },
  {
   "cell_type": "markdown",
   "metadata": {},
   "source": [
    "E - M - O - R - Y\n",
    "\n",
    "\\u0045\\u006d\\u006f\\u0072\\u0079"
   ]
  },
  {
   "cell_type": "markdown",
   "metadata": {},
   "source": [
    "### Question 07\n",
    "\n",
    "Explain the difference between ASCII and Unicode. Why was Unicode developed, and what advantages does it offer over ASCII?"
   ]
  },
  {
   "cell_type": "markdown",
   "metadata": {},
   "source": [
    "**ASCII**: ASCII doesn’t have accented letters, which are needed in lots of languages and sometimes even in English. Because of that, Unicode was made so computers could show accented letters and many more kinds of characters.\n",
    "\n",
    "**Unicode**: Unicode includes everything in ASCII but also adds thousands of extra symbols, letters from other languages, and even emojis. The big advantages of Unicode are that it works for text all around the world and has a much bigger set of characters than ASCII.\n",
    "\n"
   ]
  },
  {
   "cell_type": "markdown",
   "metadata": {},
   "source": [
    "### Question 08\n",
    "\n",
    "Describe the Von Neumann architecture and its significance in modern computing. What is the Von Neumann bottleneck, and how does it affect computer performance?"
   ]
  },
  {
   "cell_type": "markdown",
   "metadata": {},
   "source": [
    "The Von Neumann architecture, created by John von Neumann, is the basic design most computers still use. It includes a CPU, memory, input/output devices, and a system bus, with both data and instructions stored in the same memory.\n",
    "\n",
    "The “Von Neumann bottleneck” happens because data and instructions share the same path, so the CPU ends up waiting on slower memory, which slows performance."
   ]
  },
  {
   "cell_type": "markdown",
   "metadata": {},
   "source": [
    "### Question 09\n",
    "\n",
    "Compare and contrast low-level and high-level programming languages. Give two examples of each and explain when you might choose to use one over the other."
   ]
  },
  {
   "cell_type": "markdown",
   "metadata": {},
   "source": [
    "Low-level languages are close to machine code and tough for people to read, like assembly or machine code. They’re useful when you need direct hardware control or maximum efficiency.\n",
    "\n",
    "High-level languages are more human-friendly and work across different systems, like Python or Java. You’d pick these when you care about readability, portability, or working with a team."
   ]
  },
  {
   "cell_type": "markdown",
   "metadata": {},
   "source": [
    "### Question 10\n",
    "\n",
    "Discuss the concept of abstraction in computer science, using the representation of images in computers as an example. How does this abstraction process impact data analysis and predictive modelling in image-related tasks?"
   ]
  },
  {
   "cell_type": "markdown",
   "metadata": {},
   "source": [
    "In computer science, abstraction means hiding low-level details to make things easier to work with. For images, this means turning them into a grid of pixels, with each pixel stored as numbers for its color.\n",
    "\n",
    "Because images are just numbers, computers can analyze them in data tasks like regression, clustering, or running machine learning algorithms. This abstraction makes image analysis and predictive modeling possible."
   ]
  }
 ],
 "metadata": {
  "kernelspec": {
   "display_name": "base",
   "language": "python",
   "name": "python3"
  },
  "language_info": {
   "codemirror_mode": {
    "name": "ipython",
    "version": 3
   },
   "file_extension": ".py",
   "mimetype": "text/x-python",
   "name": "python",
   "nbconvert_exporter": "python",
   "pygments_lexer": "ipython3",
   "version": "3.12.7"
  }
 },
 "nbformat": 4,
 "nbformat_minor": 2
}
